{
 "cells": [
  {
   "cell_type": "markdown",
   "metadata": {},
   "source": [
    "# <font color=blue>  Análises de Probabilidades de Evasão</font>\n",
    "## <font color=black>   Disciplinas do 1º semestre </font>\n",
    "\n",
    "#### <font color=black> Escopo de análise delimitado entre o primeiro semestre de 2009 até o último semestre de 2018 do curso de Engenharia da Computação da Universidade de Brasília.</font>"
   ]
  },
  {
   "cell_type": "code",
   "execution_count": 1,
   "metadata": {},
   "outputs": [],
   "source": [
    "#importar bibliotecas\n",
    "import numpy as np\n",
    "import pandas as pd\n",
    "import csv\n",
    "import json\n",
    "import seaborn as sns\n",
    "import itertools\n",
    "import matplotlib.pyplot as plt\n",
    "\n",
    "#inicialização biblioteca de \n",
    "sns.set()"
   ]
  },
  {
   "cell_type": "code",
   "execution_count": 57,
   "metadata": {},
   "outputs": [
    {
     "name": "stdout",
     "output_type": "stream",
     "text": [
      "id_u                  int64\n",
      "id_aluno             object\n",
      "ano_ingresso          int64\n",
      "semestre_ingresso     int64\n",
      "ano_saida            object\n",
      "semestre_saida       object\n",
      "forma_saida          object\n",
      "evadiu                int64\n",
      "dtype: object\n"
     ]
    }
   ],
   "source": [
    "path = 'ingresso_saida_2.csv'\n",
    "df_in_out = pd.read_csv(path, sep =',')\n",
    "df_in_out.head()"
   ]
  },
  {
   "cell_type": "code",
   "execution_count": 58,
   "metadata": {},
   "outputs": [
    {
     "data": {
      "text/plain": [
       "Aluno Ativo                       0.477376\n",
       "Formatura                         0.142534\n",
       "Deslig - não cumpriu condição     0.126697\n",
       "Novo Vestibular                   0.102941\n",
       "Desligamento - Abandono           0.046380\n",
       "Desligamento Voluntário           0.044118\n",
       "Repr 3 vezes na mesma disc obr    0.042986\n",
       "Anulação de Registro              0.012443\n",
       "Falecimento                       0.002262\n",
       "Transferência                     0.001131\n",
       "Desligamento Falt Documentação    0.001131\n",
       "Name: forma_saida, dtype: float64"
      ]
     },
     "execution_count": 58,
     "metadata": {},
     "output_type": "execute_result"
    }
   ],
   "source": [
    "saida = df_in_out['forma_saida'].value_counts()\n",
    "total_estudantes = np.sum(saida)\n",
    "saida_prob = np.divide(saida,total_estudantes)\n",
    "saida_prob"
   ]
  },
  {
   "cell_type": "code",
   "execution_count": 59,
   "metadata": {},
   "outputs": [
    {
     "name": "stdout",
     "output_type": "stream",
     "text": [
      "0.38009049773755654\n"
     ]
    }
   ],
   "source": [
    "total_estudantes_saidos = np.sum(df_in_out.id_u.value_counts())\n",
    "df_aux = df_in_out[~df_in_out.forma_saida.str.contains(\"Ativo\")]\n",
    "saida = np.sum(df_aux.id_u[df_aux.forma_saida != \"Formatura\"].value_counts())\n",
    "prob_saida = np.divide(saida,total_estudantes)\n",
    "#Refletir sobre esse calculo\n",
    "#Muitos alunos evadem e até \n",
    "#seus colegas de semstre se formarem\n",
    "#essa estatistica fica muito alta\n",
    "print(prob_saida)"
   ]
  },
  {
   "cell_type": "code",
   "execution_count": 60,
   "metadata": {},
   "outputs": [
    {
     "data": {
      "text/html": [
       "<div>\n",
       "<style scoped>\n",
       "    .dataframe tbody tr th:only-of-type {\n",
       "        vertical-align: middle;\n",
       "    }\n",
       "\n",
       "    .dataframe tbody tr th {\n",
       "        vertical-align: top;\n",
       "    }\n",
       "\n",
       "    .dataframe thead th {\n",
       "        text-align: right;\n",
       "    }\n",
       "</style>\n",
       "<table border=\"1\" class=\"dataframe\">\n",
       "  <thead>\n",
       "    <tr style=\"text-align: right;\">\n",
       "      <th></th>\n",
       "      <th>Unnamed: 0</th>\n",
       "      <th>id_aluno</th>\n",
       "      <th>ano_ingresso</th>\n",
       "      <th>semestre_ingresso</th>\n",
       "      <th>cod_disciplina</th>\n",
       "      <th>mencao</th>\n",
       "      <th>ano_referencia</th>\n",
       "      <th>semestre_referencia</th>\n",
       "      <th>periodo_cursou_disciplina</th>\n",
       "      <th>id_tabela_ingresso</th>\n",
       "      <th>evadiu</th>\n",
       "    </tr>\n",
       "  </thead>\n",
       "  <tbody>\n",
       "    <tr>\n",
       "      <th>0</th>\n",
       "      <td>0</td>\n",
       "      <td>aluno88</td>\n",
       "      <td>2008</td>\n",
       "      <td>2</td>\n",
       "      <td>113093</td>\n",
       "      <td>SR</td>\n",
       "      <td>2009</td>\n",
       "      <td>2</td>\n",
       "      <td>2</td>\n",
       "      <td>1</td>\n",
       "      <td>0</td>\n",
       "    </tr>\n",
       "    <tr>\n",
       "      <th>1</th>\n",
       "      <td>1</td>\n",
       "      <td>aluno88</td>\n",
       "      <td>2008</td>\n",
       "      <td>2</td>\n",
       "      <td>118001</td>\n",
       "      <td>MI</td>\n",
       "      <td>2009</td>\n",
       "      <td>2</td>\n",
       "      <td>2</td>\n",
       "      <td>1</td>\n",
       "      <td>0</td>\n",
       "    </tr>\n",
       "    <tr>\n",
       "      <th>2</th>\n",
       "      <td>2</td>\n",
       "      <td>aluno88</td>\n",
       "      <td>2008</td>\n",
       "      <td>2</td>\n",
       "      <td>118001</td>\n",
       "      <td>SR</td>\n",
       "      <td>2009</td>\n",
       "      <td>2</td>\n",
       "      <td>2</td>\n",
       "      <td>1</td>\n",
       "      <td>0</td>\n",
       "    </tr>\n",
       "    <tr>\n",
       "      <th>3</th>\n",
       "      <td>3</td>\n",
       "      <td>aluno88</td>\n",
       "      <td>2008</td>\n",
       "      <td>2</td>\n",
       "      <td>113034</td>\n",
       "      <td>II</td>\n",
       "      <td>2010</td>\n",
       "      <td>1</td>\n",
       "      <td>3</td>\n",
       "      <td>1</td>\n",
       "      <td>0</td>\n",
       "    </tr>\n",
       "    <tr>\n",
       "      <th>4</th>\n",
       "      <td>4</td>\n",
       "      <td>aluno88</td>\n",
       "      <td>2008</td>\n",
       "      <td>2</td>\n",
       "      <td>118001</td>\n",
       "      <td>MI</td>\n",
       "      <td>2013</td>\n",
       "      <td>2</td>\n",
       "      <td>10</td>\n",
       "      <td>1</td>\n",
       "      <td>0</td>\n",
       "    </tr>\n",
       "  </tbody>\n",
       "</table>\n",
       "</div>"
      ],
      "text/plain": [
       "   Unnamed: 0 id_aluno  ano_ingresso  semestre_ingresso  cod_disciplina  \\\n",
       "0           0  aluno88          2008                  2          113093   \n",
       "1           1  aluno88          2008                  2          118001   \n",
       "2           2  aluno88          2008                  2          118001   \n",
       "3           3  aluno88          2008                  2          113034   \n",
       "4           4  aluno88          2008                  2          118001   \n",
       "\n",
       "  mencao  ano_referencia  semestre_referencia  periodo_cursou_disciplina  \\\n",
       "0     SR            2009                    2                          2   \n",
       "1     MI            2009                    2                          2   \n",
       "2     SR            2009                    2                          2   \n",
       "3     II            2010                    1                          3   \n",
       "4     MI            2013                    2                         10   \n",
       "\n",
       "   id_tabela_ingresso  evadiu  \n",
       "0                   1       0  \n",
       "1                   1       0  \n",
       "2                   1       0  \n",
       "3                   1       0  \n",
       "4                   1       0  "
      ]
     },
     "execution_count": 60,
     "metadata": {},
     "output_type": "execute_result"
    }
   ],
   "source": [
    "path = 'agregado_semestres_21.csv'\n",
    "df_disciplinas = pd.read_csv(path, sep =',')\n",
    "df_disciplinas.head()"
   ]
  },
  {
   "cell_type": "code",
   "execution_count": 61,
   "metadata": {},
   "outputs": [],
   "source": [
    "def prob_aprov(disciplina):\n",
    "        df = (df_disciplinas[df_disciplinas.cod_disciplina == disciplina])\n",
    "        total = np.sum(df['cod_disciplina'].value_counts())\n",
    "        aprovados = np.sum(df.cod_disciplina[((df.mencao == \"SS\") | \n",
    "                                              (df.mencao == \"MS\") | \n",
    "                                              (df.mencao == \"MM\"))].value_counts())\n",
    "        \n",
    "        prob_aprovado = aprovados/total\n",
    "        \n",
    "        return prob_aprovado\n",
    "\n",
    "            \n",
    "prob_aprovado_113093 = prob_aprov(113093)\n",
    "prob_aprovado_118001 = prob_aprov(118001)\n",
    "prob_aprovado_113034 = prob_aprov(113034)\n",
    "prob_aprovado_117528 = prob_aprov(117528)\n",
    "prob_aprovado_116301 = prob_aprov(116301)\n",
    "prob_aprovado_118010 = prob_aprov(118010)"
   ]
  },
  {
   "cell_type": "code",
   "execution_count": 62,
   "metadata": {},
   "outputs": [],
   "source": [
    "def prob_evadiu(disciplinas,evadiu):\n",
    "    \n",
    "    aprovados_evadiu = df_disciplinas.id_tabela_ingresso.to_frame()\n",
    "    aprovados_total = df_disciplinas.id_tabela_ingresso.to_frame()\n",
    "    total_alunos = df_disciplinas.id_tabela_ingresso.to_frame()\n",
    "    for dis in disciplinas:\n",
    "        \n",
    "        \n",
    "        total = (df_disciplinas[(df_disciplinas.cod_disciplina == dis)])\n",
    "        aprovados = total.id_tabela_ingresso[((total.mencao == \"SR\") | \n",
    "                                        (total.mencao == \"II\") | \n",
    "                                        (total.mencao == \"MI\") |\n",
    "                                        (total.mencao == \"TR\") | \n",
    "                                        (total.mencao == \"TJ\"))]\n",
    "        \n",
    "        df_evadiu = (df_disciplinas[(df_disciplinas.cod_disciplina == dis)&(df_disciplinas.evadiu == evadiu)])\n",
    "        evadiu_alunos = df_evadiu.id_tabela_ingresso[((total.mencao == \"SR\") | \n",
    "                                               (total.mencao == \"II\") | \n",
    "                                               (total.mencao == \"MI\") |\n",
    "                                               (total.mencao == \"TR\") | \n",
    "                                               (total.mencao == \"TJ\"))]\n",
    "        \n",
    "        aprovados = aprovados.to_frame()\n",
    "        evadiu_alunos = evadiu_alunos.to_frame()\n",
    "        total = total.id_tabela_ingresso.to_frame()\n",
    "        total_alunos = total_alunos.merge(total, how='inner')\n",
    "        total_alunos = total_alunos.drop_duplicates()\n",
    "        aprovados_total = aprovados_total.merge(aprovados, how='inner')\n",
    "        aprovados_total = aprovados_total.drop_duplicates()\n",
    "        aprovados_evadiu = aprovados_evadiu.merge(evadiu_alunos, how='inner')\n",
    "        aprovados_evadiu = aprovados_evadiu.drop_duplicates()\n",
    "        \n",
    "    \n",
    "    total_alunos = np.sum(total_alunos.id_tabela_ingresso.value_counts())\n",
    "    #print(\"total \" + str(total_alunos))\n",
    "    aprovados_total = np.sum(aprovados_total.id_tabela_ingresso.value_counts())\n",
    "    #print(\"aprovados \"+ str(aprovados_total))\n",
    "    aprovados_evadiu = np.sum(aprovados_evadiu.id_tabela_ingresso.value_counts())\n",
    "    #print(\"a e evadiu \"+ str(aprovados_evadiu))\n",
    "    prob_aprovado_evadiu = aprovados_evadiu/aprovados_total\n",
    "    prob_aprovado = aprovados_total / total_alunos\n",
    "    return prob_aprovado_evadiu\n"
   ]
  },
  {
   "cell_type": "code",
   "execution_count": 63,
   "metadata": {},
   "outputs": [],
   "source": [
    "\n",
    "def prob_condicionais(prob_a_b,prob_b,prob_a):\n",
    "    \n",
    "    prob_a_nb = (prob_a -(prob_a_b * prob_b))/(1-prob_b)\n",
    "    \n",
    "    \n",
    "    \n",
    "    return prob_a_nb"
   ]
  },
  {
   "cell_type": "code",
   "execution_count": 64,
   "metadata": {},
   "outputs": [],
   "source": [
    "semestre2 = [118036,118028,116319,115045,113042]\n",
    "data = []\n",
    "dis_sem2 = list(itertools.combinations_with_replacement(semestre2,2))\n",
    "for dis in dis_sem2:\n",
    "    aux = prob_evadiu([dis[0],dis[1]],1) \n",
    "    #prob = prob_condicionais(aux[0],aux[1],prob_saida) \n",
    "    data.append([str(dis[0]),str(dis[1]),aux])\n"
   ]
  },
  {
   "cell_type": "markdown",
   "metadata": {},
   "source": [
    "#### <font color=black> Mapas de calor da probabilidade de evasão dada reprovações nas disciplinas</font>"
   ]
  },
  {
   "cell_type": "code",
   "execution_count": 65,
   "metadata": {},
   "outputs": [
    {
     "data": {
      "image/png": "[encoded data removed]",
      "text/plain": [
       "<Figure size 432x288 with 2 Axes>"
      ]
     },
     "metadata": {},
     "output_type": "display_data"
    }
   ],
   "source": [
    "heat = pd.DataFrame(data,columns=['dis', 'dis2', 'prob'])\n",
    "heat = heat.pivot('dis', 'dis2', 'prob')\n",
    "with sns.axes_style(\"white\"):\n",
    "    ax = sns.heatmap(heat,vmin=0,annot=True,cmap=\"YlGnBu\")\n"
   ]
  },
  {
   "cell_type": "code",
   "execution_count": 66,
   "metadata": {},
   "outputs": [],
   "source": [
    "data2 = []\n",
    "dis_sem22 = list(itertools.combinations(semestre2,3))\n",
    "for dis in dis_sem22:\n",
    "    aux = prob_evadiu([dis[0],dis[1],dis[2]],1) \n",
    "    #prob = prob_condicionais(aux[0],aux[1],prob_saida) \n",
    "    data2.append([str(dis[0]),str(dis[1])+'/'+str(dis[2]),aux])\n"
   ]
  },
  {
   "cell_type": "code",
   "execution_count": 67,
   "metadata": {},
   "outputs": [
    {
     "data": {
      "image/png": "[encoded data removed]",
      "text/plain": [
       "<Figure size 432x216 with 2 Axes>"
      ]
     },
     "metadata": {},
     "output_type": "display_data"
    }
   ],
   "source": [
    "heat2 = pd.DataFrame(data2,columns=['dis', 'dis2', 'prob'])\n",
    "heat2 = heat2.pivot('dis', 'dis2', 'prob')\n",
    "fig2, ax2 = plt.subplots(figsize=(6,3))\n",
    "with sns.axes_style(\"white\"):\n",
    "    ax2 = sns.heatmap(heat2,vmin=0,annot=True,cmap=\"YlGnBu\")\n"
   ]
  },
  {
   "cell_type": "code",
   "execution_count": 68,
   "metadata": {},
   "outputs": [],
   "source": [
    "data3 = []\n",
    "dis_sem33 = list(itertools.combinations(semestre2,4))\n",
    "for dis in dis_sem33:\n",
    "    aux = prob_evadiu([dis[0],dis[1],dis[2],dis[3]],1) \n",
    "    #prob = prob_condicionais(aux[0],aux[1],prob_saida) \n",
    "    data3.append([str(dis[0])+'/'+str(dis[1]),str(dis[2])+'/'+str(dis[3]),aux])\n"
   ]
  },
  {
   "cell_type": "code",
   "execution_count": 69,
   "metadata": {},
   "outputs": [
    {
     "data": {
      "image/png": "[encoded data removed]",
      "text/plain": [
       "<Figure size 432x288 with 2 Axes>"
      ]
     },
     "metadata": {},
     "output_type": "display_data"
    }
   ],
   "source": [
    "heat3 = pd.DataFrame(data3,columns=['dis', 'dis2', 'prob'])\n",
    "heat3 = heat3.pivot('dis', 'dis2', 'prob')\n",
    "fig3, ax3 = plt.subplots()\n",
    "with sns.axes_style(\"white\"):\n",
    "    ax3 = sns.heatmap(heat3,vmin=0,annot=True,cmap=\"YlGnBu\")\n"
   ]
  },
  {
   "cell_type": "code",
   "execution_count": 70,
   "metadata": {},
   "outputs": [
    {
     "name": "stdout",
     "output_type": "stream",
     "text": [
      "0.375\n"
     ]
    }
   ],
   "source": [
    "aux = prob_evadiu(semestre2,1) \n",
    "print(aux)"
   ]
  }
 ],
 "metadata": {
  "kernelspec": {
   "display_name": "Python 3",
   "language": "python",
   "name": "python3"
  },
  "language_info": {
   "codemirror_mode": {
    "name": "ipython",
    "version": 3
   },
   "file_extension": ".py",
   "mimetype": "text/x-python",
   "name": "python",
   "nbconvert_exporter": "python",
   "pygments_lexer": "ipython3",
   "version": "3.7.3"
  }
 },
 "nbformat": 4,
 "nbformat_minor": 2
}
