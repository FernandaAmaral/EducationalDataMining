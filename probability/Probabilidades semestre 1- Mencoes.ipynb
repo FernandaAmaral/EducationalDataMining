{
 "cells": [
  {
   "cell_type": "markdown",
   "metadata": {},
   "source": [
    "# <font color=blue>  Análises de Probabilidades de Evasão</font>\n",
    "## <font color=black>  Menções do 1º semestre </font>\n",
    "\n",
    "#### <font color=black> Escopo de análise delimitado entre o primeiro semestre de 2009 até o último semestre de 2018 do curso de Engenharia da Computação da Universidade de Brasília.</font>"
   ]
  },
  {
   "cell_type": "code",
   "execution_count": 57,
   "metadata": {},
   "outputs": [],
   "source": [
    "#importar bibliotecas\n",
    "import numpy as np\n",
    "import pandas as pd\n",
    "import csv\n",
    "import json\n",
    "import seaborn as sns\n",
    "import itertools\n",
    "import matplotlib.pyplot as plt\n",
    "\n",
    "#inicialização biblioteca de \n",
    "sns.set()"
   ]
  },
  {
   "cell_type": "code",
   "execution_count": 1,
   "metadata": {},
   "outputs": [],
   "source": [
    "path = 'data/ingresso_saida_2.csv'\n",
    "df_in_out = pd.read_csv(path, sep =',')\n",
    "df_in_out.head()\n",
    "print(df_in_out.dtypes)"
   ]
  },
  {
   "cell_type": "code",
   "execution_count": null,
   "metadata": {},
   "outputs": [],
   "source": [
    "saida = df_in_out['forma_saida'].value_counts()\n",
    "total_estudantes = np.sum(saida)\n",
    "saida_prob = np.divide(saida,total_estudantes)\n",
    "saida_prob"
   ]
  },
  {
   "cell_type": "code",
   "execution_count": null,
   "metadata": {},
   "outputs": [],
   "source": [
    "total_estudantes_saidos = np.sum(df_in_out.id_u.value_counts())\n",
    "df_aux = df_in_out[~df_in_out.forma_saida.str.contains(\"Ativo\")]\n",
    "saida = np.sum(df_aux.id_u[df_aux.forma_saida != \"Formatura\"].value_counts())\n",
    "prob_saida = np.divide(saida,total_estudantes)\n",
    "#Refletir sobre esse calculo\n",
    "#Muitos alunos evadem e até \n",
    "#seus colegas de semstre se formarem\n",
    "#essa estatistica fica muito alta\n",
    "print(prob_saida)"
   ]
  },
  {
   "cell_type": "code",
   "execution_count": null,
   "metadata": {},
   "outputs": [],
   "source": [
    "path = 'agregado_semestres_21.csv'\n",
    "df_disciplinas = pd.read_csv(path, sep =',')\n",
    "df_disciplinas.head()"
   ]
  },
  {
   "cell_type": "code",
   "execution_count": null,
   "metadata": {},
   "outputs": [],
   "source": [
    "def prob_aprov(disciplina):\n",
    "    \n",
    "        total = (df_disciplinas[(df_disciplinas.cod_disciplina == disciplina)])\n",
    "        rep = total.id_tabela_ingresso[((total.mencao == \"SR\") | \n",
    "                                        (total.mencao == \"II\") | \n",
    "                                        (total.mencao == \"MI\") |\n",
    "                                        (total.mencao == \"TR\") | \n",
    "                                        (total.mencao == \"TJ\"))]\n",
    "        \n",
    "        df_evadiu = (df_disciplinas[(df_disciplinas.cod_disciplina == disciplina)&(df_disciplinas.evadiu == 1)])\n",
    "        evadiu = df_evadiu.id_tabela_ingresso[((total.mencao == \"SR\") | \n",
    "                                               (total.mencao == \"II\") | \n",
    "                                               (total.mencao == \"MI\") |\n",
    "                                               (total.mencao == \"TR\") | \n",
    "                                               (total.mencao == \"TJ\"))]\n",
    "        \n",
    "        rep = rep.drop_duplicates()\n",
    "        rep = np.sum(rep.value_counts())\n",
    "        evadiu = evadiu.drop_duplicates()\n",
    "        evadiu = np.sum(evadiu.value_counts())\n",
    "        prob_rep_evadir = evadiu/rep\n",
    "        \n",
    "        return prob_rep_evadir\n",
    "\n",
    "            \n",
    "prob_aprovado_113093 = prob_aprov(113093)\n",
    "prob_aprovado_118001 = prob_aprov(118001)\n",
    "prob_aprovado_113034 = prob_aprov(113034)\n",
    "prob_aprovado_117528 = prob_aprov(117528)\n",
    "prob_aprovado_116301 = prob_aprov(116301)\n",
    "prob_aprovado_118010 = prob_aprov(118010)\n",
    "\n",
    "print(prob_aprovado_118010)\n",
    "print(prob_aprovado_116301)\n",
    "print(prob_aprovado_117528)\n",
    "print(prob_aprovado_113034)\n",
    "print(prob_aprovado_118001)\n",
    "print(prob_aprovado_113093)"
   ]
  },
  {
   "cell_type": "code",
   "execution_count": null,
   "metadata": {},
   "outputs": [],
   "source": [
    "def prob_evadiu(disciplinas,evadiu,mencao):\n",
    "    \n",
    "    aprovados_evadiu = df_disciplinas.id_tabela_ingresso.to_frame()\n",
    "    aprovados_total = df_disciplinas.id_tabela_ingresso.to_frame()\n",
    "    total_alunos = df_disciplinas.id_tabela_ingresso.to_frame()\n",
    "    for dis in disciplinas:\n",
    "        \n",
    "        \n",
    "        total = (df_disciplinas[(df_disciplinas.cod_disciplina == dis)])\n",
    "        aprovados = total.id_tabela_ingresso[((total.mencao == mencao))]\n",
    "        \n",
    "        df_evadiu = (df_disciplinas[(df_disciplinas.cod_disciplina == dis)&(df_disciplinas.evadiu == evadiu)])\n",
    "        evadiu_alunos = df_evadiu.id_tabela_ingresso[((total.mencao == mencao))]\n",
    "        \n",
    "        aprovados = aprovados.to_frame()\n",
    "        evadiu_alunos = evadiu_alunos.to_frame()\n",
    "        total = total.id_tabela_ingresso.to_frame()\n",
    "        total_alunos = total_alunos.merge(total, how='inner')\n",
    "        total_alunos = total_alunos.drop_duplicates()\n",
    "        aprovados_total = aprovados_total.merge(aprovados, how='inner')\n",
    "        aprovados_total = aprovados_total.drop_duplicates()\n",
    "        aprovados_evadiu = aprovados_evadiu.merge(evadiu_alunos, how='inner')\n",
    "        aprovados_evadiu = aprovados_evadiu.drop_duplicates()\n",
    "        \n",
    "    \n",
    "    total_alunos = np.sum(total_alunos.id_tabela_ingresso.value_counts())\n",
    "    #print(\"total \" + str(total_alunos))\n",
    "    aprovados_total = np.sum(aprovados_total.id_tabela_ingresso.value_counts())\n",
    "    #print(\"reprovados \"+ str(aprovados_total))\n",
    "    aprovados_evadiu = np.sum(aprovados_evadiu.id_tabela_ingresso.value_counts())\n",
    "    #print(\"r e evadiu \"+ str(aprovados_evadiu))\n",
    "    prob_aprovado_evadiu = aprovados_evadiu/aprovados_total\n",
    "    if aprovados_total < 20:\n",
    "        prob_aprovado = 0.01\n",
    "    else:\n",
    "        prob_aprovado = aprovados_total / total_alunos\n",
    "    return prob_aprovado_evadiu\n"
   ]
  },
  {
   "cell_type": "markdown",
   "metadata": {},
   "source": [
    "#### <font color=black> Mapas de calor da probabilidade de evasão dada reprovações nas disciplinas</font>"
   ]
  },
  {
   "cell_type": "code",
   "execution_count": null,
   "metadata": {},
   "outputs": [],
   "source": [
    "semestre1 = [118010,118001,117528,116301,113093,113034]\n",
    "mencoes = ['MI', 'II', 'SR', 'TJ', 'TR']\n",
    "dis_sem1 = list(itertools.combinations_with_replacement(semestre1,2))\n",
    "for men in mencoes:    \n",
    "    data = []\n",
    "    for dis in dis_sem1:\n",
    "        aux = prob_evadiu([dis[0],dis[1]],1,men) \n",
    "        data.append([str(dis[0]),str(dis[1]),aux])\n",
    "    heat = pd.DataFrame(data,columns=['dis', 'dis2', 'prob'])\n",
    "    heat = heat.pivot('dis', 'dis2', 'prob')\n",
    "    fig2, ax2 = plt.subplots(figsize=(6,6))\n",
    "    with sns.axes_style(\"white\"):\n",
    "        ax = sns.heatmap(heat,annot=True, cmap=\"YlGnBu\")\n",
    "        ax.set_title(men)\n",
    "        plt.show()\n"
   ]
  },
  {
   "cell_type": "code",
   "execution_count": null,
   "metadata": {},
   "outputs": [],
   "source": [
    "\n"
   ]
  },
  {
   "cell_type": "code",
   "execution_count": null,
   "metadata": {},
   "outputs": [],
   "source": [
    "\n"
   ]
  },
  {
   "cell_type": "code",
   "execution_count": null,
   "metadata": {},
   "outputs": [],
   "source": []
  }
 ],
 "metadata": {
  "kernelspec": {
   "display_name": "Python 3",
   "language": "python",
   "name": "python3"
  },
  "language_info": {
   "codemirror_mode": {
    "name": "ipython",
    "version": 3
   },
   "file_extension": ".py",
   "mimetype": "text/x-python",
   "name": "python",
   "nbconvert_exporter": "python",
   "pygments_lexer": "ipython3",
   "version": "3.7.7"
  }
 },
 "nbformat": 4,
 "nbformat_minor": 2
}
