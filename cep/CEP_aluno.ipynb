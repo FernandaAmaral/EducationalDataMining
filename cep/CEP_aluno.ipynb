{
 "cells": [
  {
   "cell_type": "markdown",
   "metadata": {},
   "source": [
    "# <font color=blue>  Mapa de Calor  </font>\n",
    "## <font color=black>  Distribuição de alunos de Engenharia da Computação pelo mapa do DF </font>\n",
    "#### <font color=black> Escopo de análise delimitado entre o semestre de 2009 até o último semestre de 2018 do curso de Engenharia da Computação da Universidade de Brasília.</font>"
   ]
  },
  {
   "cell_type": "code",
   "execution_count": 1,
   "metadata": {},
   "outputs": [],
   "source": [
    "#importar bibliotecas\n",
    "\n",
    "import numpy as np\n",
    "import pandas as pd\n",
    "from geopy.geocoders import GoogleV3\n",
    "import csv\n",
    "from geopy import geocoders\n",
    "import json\n",
    "from pathlib import Path\n",
    "import pycep_correios\n",
    "import warnings\n",
    "import folium\n",
    "from folium.plugins import HeatMap\n",
    "import os\n",
    "import subprocess\n",
    "import time\n",
    "import re\n",
    "from selenium import webdriver\n",
    "from selenium.webdriver.firefox.options import Options\n",
    "import plotly\n",
    "import plotly.graph_objs as go\n",
    "import plotly.plotly as py\n",
    "import cufflinks\n",
    "\n",
    "#parametros para rodar API do Google\n",
    "g = geocoders.GoogleV3(api_key='chave API do Goohgle Maps')\n",
    "geolocator = GoogleV3()\n",
    "\n",
    "#ignorar avisos do código\n",
    "warnings.filterwarnings('ignore')"
   ]
  },
  {
   "cell_type": "code",
   "execution_count": null,
   "metadata": {},
   "outputs": [],
   "source": [
    "path = 'data/anoecep_ira_parte15.csv'\n",
    "df_cep =  pd.read_csv(path, sep =';')\n",
    "df_cep = df_cep.fillna(0)\n",
    "df_cep.head()"
   ]
  },
  {
   "cell_type": "markdown",
   "metadata": {},
   "source": [
    "#### <font color=black> Transformar dados de CEP para dados de Latitude e Longitude com o uso da API do google maps e API dos correios</font>"
   ]
  },
  {
   "cell_type": "code",
   "execution_count": null,
   "metadata": {},
   "outputs": [],
   "source": [
    "my_file = Path(\"data/lat_log_uni.json\")\n",
    "\n",
    "if my_file.is_file():\n",
    "    lat_log = json.load(open('data/lat_log_uni.json'))\n",
    "else:\n",
    "    lat_log ={}\n",
    "    with open(\"data/cep_uni.txt\", \"r\") as f:\n",
    "        f = f.read().splitlines() \n",
    "        for x in f:\n",
    "\n",
    "            if not(str(x) in lat_log):\n",
    "                inputAddress = str(x)\n",
    "                location = g.geocode(inputAddress, timeout=10)\n",
    "                if location is None:\n",
    "                    try:\n",
    "                        endereco = pycep_correios.consultar_cep(x)\n",
    "                        inputAddress = endereco['end']+ \" , \" + endereco['cidade']\n",
    "                        location = g.geocode(inputAddress, timeout=10)\n",
    "\n",
    "                        if location is None:\n",
    "                            lat_log[x] = \"NaN\"\n",
    "                        else:\n",
    "                            lat_log[x] = str(location.latitude)+ \"/\"+ str(location.longitude)\n",
    "\n",
    "                    except:\n",
    "                        lat_log[x] = \"NaN\"\n",
    "                \n",
    "                else:\n",
    "                    lat_log[x] = str(location.latitude)+ \"/\"+ str(location.longitude)\n",
    "\n",
    "    with open('data/lat_log_uni.json', 'w') as file:\n",
    "        json.dump(lat_log, file)\n",
    "\n",
    " "
   ]
  },
  {
   "cell_type": "code",
   "execution_count": null,
   "metadata": {},
   "outputs": [],
   "source": [
    "df_cep['CEP'] = df_cep['CEP'].astype(str)\n",
    "\n",
    "df_cep = df_cep.replace({\"CEP\": lat_log})\n",
    "\n",
    "df_cep.head()"
   ]
  },
  {
   "cell_type": "code",
   "execution_count": null,
   "metadata": {},
   "outputs": [],
   "source": [
    "df_cep.to_csv('data/jupyter_latlog.csv', sep=',')"
   ]
  },
  {
   "cell_type": "code",
   "execution_count": null,
   "metadata": {},
   "outputs": [],
   "source": [
    "#Agrupar os valores importantes para a criação do mapa de calor\n",
    "#ano = [2009,2010,2011,2012,2013,2014,2015,2016,2017,2018,2019]\n",
    "#ano de 2019 foge do escopo, apesar de poder ser incluido na análise\n",
    "\n",
    "ano = [2009,2010,2011,2012,2013,2014,2015,2016,2017,2018]\n",
    "semestre = [0,1,2]\n",
    "time_dict = {}\n",
    "for x in ano:\n",
    "    for y in semestre:\n",
    "        time_dict[str(x)+'_'+str(y)] = []\n",
    "        df = df_cep.loc[df_cep['Semestre/Ano'] == str(x)+\"/\"+str(y)]\n",
    "        lista = df.index.values.astype(int)\n",
    "        arr = df.drop(['Semestre/Ano', 'CEP'], axis=1).values\n",
    "        index_names = df.drop(['Semestre/Ano', 'CEP'], axis=1).index\n",
    "        col_names = df.drop(['Semestre/Ano', 'CEP'], axis=1).columns\n",
    "        R,C = np.where(arr>0)\n",
    "        teste = np.zeros_like(index_names[R])\n",
    "        out_arr = np.column_stack((index_names[R],col_names[C],arr[R,C]))\n",
    "        df_out = pd.DataFrame(data = out_arr,columns=['row_name','col_name','value'])\n",
    "\n",
    "        for i in lista:\n",
    "            for j in out_arr:\n",
    "                if j[0] == i:\n",
    "                    time_dict[str(x)+'_'+str(y)].append([df.CEP[i],float(1)])\n",
    "                    \n"
   ]
  },
  {
   "cell_type": "markdown",
   "metadata": {},
   "source": [
    "#### <font color=black> Criação dos mapas de calor</font>"
   ]
  },
  {
   "cell_type": "code",
   "execution_count": null,
   "metadata": {},
   "outputs": [],
   "source": [
    "j = 0\n",
    "pathto ='/heatmap/'\n",
    "for i in time_dict.values():\n",
    "\n",
    "    df = pd.DataFrame(i,columns = ['lat_log','ira'])\n",
    "    if df.empty:\n",
    "        j = j +1\n",
    "    else:\n",
    "        df[['lat', 'log']] = df.lat_log.str.split('/', expand = True)\n",
    "        df[\"ira\"] = pd.to_numeric(df[\"ira\"])\n",
    "        df = df.dropna()\n",
    "        max_amount = 1\n",
    "        hmap = folium.Map(location=[-15.7890068,-47.8908946], zoom_start=11, )\n",
    "        hm_wide = HeatMap( list(zip(df.lat.values, df.log.values, df.ira.values)),\n",
    "                       min_opacity=0.1,\n",
    "                       max_val=max_amount,\n",
    "                       radius=8, blur=7, \n",
    "                       max_zoom=1, \n",
    "                     )\n",
    "        hmap.add_child(hm_wide)\n",
    "        hmap.save(os.path.join(pathto, 'heatmap' +str(j) +'.html'))\n",
    "        j = j +1"
   ]
  },
  {
   "cell_type": "markdown",
   "metadata": {},
   "source": [
    "#### <font color=black> Captura dos mapas de calor do formato HTML para o formato PNG</font>"
   ]
  },
  {
   "cell_type": "code",
   "execution_count": null,
   "metadata": {
    "scrolled": true
   },
   "outputs": [],
   "source": [
    "options = Options()\n",
    "#options.headless = True\n",
    "\n",
    "for i in range(33):\n",
    "    fn='testmap.html'\n",
    "    tmpurl=pathto+'heatmap'+str(i)+'.html'.format(path=os.getcwd(),mapfile=fn)\n",
    "\n",
    "    browser = webdriver.Firefox()\n",
    "    browser.get(tmpurl)\n",
    "    time.sleep(20)  #Give the map tiles some time to load\n",
    "    browser.save_screenshot('map'+str(i)+'.png')\n",
    "    browser.quit()"
   ]
  }
 ],
 "metadata": {
  "kernelspec": {
   "display_name": "Python 3",
   "language": "python",
   "name": "python3"
  },
  "language_info": {
   "codemirror_mode": {
    "name": "ipython",
    "version": 3
   },
   "file_extension": ".py",
   "mimetype": "text/x-python",
   "name": "python",
   "nbconvert_exporter": "python",
   "pygments_lexer": "ipython3",
   "version": "3.7.7"
  }
 },
 "nbformat": 4,
 "nbformat_minor": 2
}
